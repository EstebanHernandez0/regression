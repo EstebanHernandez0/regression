{
 "cells": [
  {
   "cell_type": "code",
   "execution_count": 55,
   "id": "e0756316",
   "metadata": {},
   "outputs": [],
   "source": [
    "from env import get_connection\n",
    "import pandas as pd\n",
    "import numpy as np\n",
    "import matplotlib.pyplot as plt\n",
    "import wrangle as w\n",
    "import seaborn as sns\n",
    "from math import sqrt\n",
    "from scipy import stats\n",
    "import math\n",
    "# ignore warnings\n",
    "import warnings\n",
    "warnings.filterwarnings(\"ignore\")\n",
    "\n",
    "from sklearn.linear_model import LinearRegression\n",
    "from sklearn.metrics import mean_squared_error, r2_score, explained_variance_score\n",
    "from sklearn.metrics import r2_score\n"
   ]
  },
  {
   "cell_type": "markdown",
   "id": "b0ed3f1a",
   "metadata": {},
   "source": [
    "1. Load your zillow dataset."
   ]
  },
  {
   "cell_type": "code",
   "execution_count": 2,
   "id": "8d4d3144",
   "metadata": {},
   "outputs": [
    {
     "data": {
      "text/plain": [
       "((1198531, 8), (513657, 8), (428047, 8))"
      ]
     },
     "execution_count": 2,
     "metadata": {},
     "output_type": "execute_result"
    }
   ],
   "source": [
    "train, val, test= w.wrangle_zillow()\n",
    "train.shape, val.shape, test.shape"
   ]
  },
  {
   "cell_type": "code",
   "execution_count": 3,
   "id": "82ee606b",
   "metadata": {},
   "outputs": [],
   "source": [
    "train.drop(columns= ('Unnamed: 0'), inplace= True)"
   ]
  },
  {
   "cell_type": "code",
   "execution_count": 4,
   "id": "12bbde80",
   "metadata": {},
   "outputs": [
    {
     "data": {
      "text/html": [
       "<div>\n",
       "<style scoped>\n",
       "    .dataframe tbody tr th:only-of-type {\n",
       "        vertical-align: middle;\n",
       "    }\n",
       "\n",
       "    .dataframe tbody tr th {\n",
       "        vertical-align: top;\n",
       "    }\n",
       "\n",
       "    .dataframe thead th {\n",
       "        text-align: right;\n",
       "    }\n",
       "</style>\n",
       "<table border=\"1\" class=\"dataframe\">\n",
       "  <thead>\n",
       "    <tr style=\"text-align: right;\">\n",
       "      <th></th>\n",
       "      <th>year_built</th>\n",
       "      <th>property_value</th>\n",
       "      <th>tax_amount</th>\n",
       "      <th>bedrooms</th>\n",
       "      <th>bathrooms</th>\n",
       "      <th>sqr_feet</th>\n",
       "      <th>fips</th>\n",
       "    </tr>\n",
       "  </thead>\n",
       "  <tbody>\n",
       "    <tr>\n",
       "      <th>1567873</th>\n",
       "      <td>1950.0</td>\n",
       "      <td>191578.0</td>\n",
       "      <td>2712.21</td>\n",
       "      <td>3.0</td>\n",
       "      <td>1.0</td>\n",
       "      <td>1248.0</td>\n",
       "      <td>6037.0</td>\n",
       "    </tr>\n",
       "  </tbody>\n",
       "</table>\n",
       "</div>"
      ],
      "text/plain": [
       "         year_built  property_value  tax_amount  bedrooms  bathrooms  \\\n",
       "1567873      1950.0        191578.0     2712.21       3.0        1.0   \n",
       "\n",
       "         sqr_feet    fips  \n",
       "1567873    1248.0  6037.0  "
      ]
     },
     "execution_count": 4,
     "metadata": {},
     "output_type": "execute_result"
    }
   ],
   "source": [
    "train.head(1)"
   ]
  },
  {
   "cell_type": "markdown",
   "id": "02a2108d",
   "metadata": {},
   "source": [
    "2. Fit a linear regression model (ordinary least squares) and compute yhat, predictions of taxvaluedollarcnt using only calculatedfinishedsqft."
   ]
  },
  {
   "cell_type": "code",
   "execution_count": 5,
   "id": "7840550c",
   "metadata": {},
   "outputs": [],
   "source": [
    "preds= train[['property_value', 'sqr_feet']]"
   ]
  },
  {
   "cell_type": "code",
   "execution_count": 6,
   "id": "7d3938fc",
   "metadata": {},
   "outputs": [
    {
     "data": {
      "text/html": [
       "<div>\n",
       "<style scoped>\n",
       "    .dataframe tbody tr th:only-of-type {\n",
       "        vertical-align: middle;\n",
       "    }\n",
       "\n",
       "    .dataframe tbody tr th {\n",
       "        vertical-align: top;\n",
       "    }\n",
       "\n",
       "    .dataframe thead th {\n",
       "        text-align: right;\n",
       "    }\n",
       "</style>\n",
       "<table border=\"1\" class=\"dataframe\">\n",
       "  <thead>\n",
       "    <tr style=\"text-align: right;\">\n",
       "      <th></th>\n",
       "      <th>property_value</th>\n",
       "      <th>sqr_feet</th>\n",
       "      <th>baseline_pre</th>\n",
       "    </tr>\n",
       "  </thead>\n",
       "  <tbody>\n",
       "    <tr>\n",
       "      <th>1567873</th>\n",
       "      <td>191578.0</td>\n",
       "      <td>1248.0</td>\n",
       "      <td>461370</td>\n",
       "    </tr>\n",
       "    <tr>\n",
       "      <th>1218138</th>\n",
       "      <td>1345206.0</td>\n",
       "      <td>1326.0</td>\n",
       "      <td>461370</td>\n",
       "    </tr>\n",
       "    <tr>\n",
       "      <th>339661</th>\n",
       "      <td>356648.0</td>\n",
       "      <td>1053.0</td>\n",
       "      <td>461370</td>\n",
       "    </tr>\n",
       "    <tr>\n",
       "      <th>1017133</th>\n",
       "      <td>175069.0</td>\n",
       "      <td>1256.0</td>\n",
       "      <td>461370</td>\n",
       "    </tr>\n",
       "    <tr>\n",
       "      <th>40250</th>\n",
       "      <td>543000.0</td>\n",
       "      <td>1640.0</td>\n",
       "      <td>461370</td>\n",
       "    </tr>\n",
       "  </tbody>\n",
       "</table>\n",
       "</div>"
      ],
      "text/plain": [
       "         property_value  sqr_feet  baseline_pre\n",
       "1567873        191578.0    1248.0        461370\n",
       "1218138       1345206.0    1326.0        461370\n",
       "339661         356648.0    1053.0        461370\n",
       "1017133        175069.0    1256.0        461370\n",
       "40250          543000.0    1640.0        461370"
      ]
     },
     "execution_count": 6,
     "metadata": {},
     "output_type": "execute_result"
    }
   ],
   "source": [
    "preds['baseline_pre']= round(preds.property_value.mean())\n",
    "preds.head()"
   ]
  },
  {
   "cell_type": "code",
   "execution_count": 7,
   "id": "4f2780d7",
   "metadata": {},
   "outputs": [
    {
     "data": {
      "text/html": [
       "<div>\n",
       "<style scoped>\n",
       "    .dataframe tbody tr th:only-of-type {\n",
       "        vertical-align: middle;\n",
       "    }\n",
       "\n",
       "    .dataframe tbody tr th {\n",
       "        vertical-align: top;\n",
       "    }\n",
       "\n",
       "    .dataframe thead th {\n",
       "        text-align: right;\n",
       "    }\n",
       "</style>\n",
       "<table border=\"1\" class=\"dataframe\">\n",
       "  <thead>\n",
       "    <tr style=\"text-align: right;\">\n",
       "      <th></th>\n",
       "      <th>property_value</th>\n",
       "      <th>sqr_feet</th>\n",
       "      <th>baseline_pre</th>\n",
       "      <th>yhat</th>\n",
       "    </tr>\n",
       "  </thead>\n",
       "  <tbody>\n",
       "    <tr>\n",
       "      <th>1567873</th>\n",
       "      <td>191578.0</td>\n",
       "      <td>1248.0</td>\n",
       "      <td>461370</td>\n",
       "      <td>1632.724665</td>\n",
       "    </tr>\n",
       "    <tr>\n",
       "      <th>1218138</th>\n",
       "      <td>1345206.0</td>\n",
       "      <td>1326.0</td>\n",
       "      <td>461370</td>\n",
       "      <td>2623.183799</td>\n",
       "    </tr>\n",
       "    <tr>\n",
       "      <th>339661</th>\n",
       "      <td>356648.0</td>\n",
       "      <td>1053.0</td>\n",
       "      <td>461370</td>\n",
       "      <td>1774.447204</td>\n",
       "    </tr>\n",
       "    <tr>\n",
       "      <th>1017133</th>\n",
       "      <td>175069.0</td>\n",
       "      <td>1256.0</td>\n",
       "      <td>461370</td>\n",
       "      <td>1618.550694</td>\n",
       "    </tr>\n",
       "    <tr>\n",
       "      <th>40250</th>\n",
       "      <td>543000.0</td>\n",
       "      <td>1640.0</td>\n",
       "      <td>461370</td>\n",
       "      <td>1934.441622</td>\n",
       "    </tr>\n",
       "  </tbody>\n",
       "</table>\n",
       "</div>"
      ],
      "text/plain": [
       "         property_value  sqr_feet  baseline_pre         yhat\n",
       "1567873        191578.0    1248.0        461370  1632.724665\n",
       "1218138       1345206.0    1326.0        461370  2623.183799\n",
       "339661         356648.0    1053.0        461370  1774.447204\n",
       "1017133        175069.0    1256.0        461370  1618.550694\n",
       "40250          543000.0    1640.0        461370  1934.441622"
      ]
     },
     "execution_count": 7,
     "metadata": {},
     "output_type": "execute_result"
    }
   ],
   "source": [
    "ols_model= LinearRegression()\n",
    "\n",
    "ols_model.fit(train[['property_value']], train[['sqr_feet']])\n",
    "\n",
    "preds['yhat']= ols_model.predict(train[['property_value']])\n",
    "preds.head()"
   ]
  },
  {
   "cell_type": "markdown",
   "id": "fa747682",
   "metadata": {},
   "source": [
    "3. Plot the residuals for the linear regression model that you made."
   ]
  },
  {
   "cell_type": "code",
   "execution_count": 8,
   "id": "cf3cf35b",
   "metadata": {},
   "outputs": [
    {
     "data": {
      "text/html": [
       "<div>\n",
       "<style scoped>\n",
       "    .dataframe tbody tr th:only-of-type {\n",
       "        vertical-align: middle;\n",
       "    }\n",
       "\n",
       "    .dataframe tbody tr th {\n",
       "        vertical-align: top;\n",
       "    }\n",
       "\n",
       "    .dataframe thead th {\n",
       "        text-align: right;\n",
       "    }\n",
       "</style>\n",
       "<table border=\"1\" class=\"dataframe\">\n",
       "  <thead>\n",
       "    <tr style=\"text-align: right;\">\n",
       "      <th></th>\n",
       "      <th>property_value</th>\n",
       "      <th>sqr_feet</th>\n",
       "      <th>baseline_pre</th>\n",
       "      <th>yhat</th>\n",
       "      <th>baseline_res</th>\n",
       "    </tr>\n",
       "  </thead>\n",
       "  <tbody>\n",
       "    <tr>\n",
       "      <th>1567873</th>\n",
       "      <td>191578.0</td>\n",
       "      <td>1248.0</td>\n",
       "      <td>461370</td>\n",
       "      <td>1632.724665</td>\n",
       "      <td>269792.0</td>\n",
       "    </tr>\n",
       "    <tr>\n",
       "      <th>1218138</th>\n",
       "      <td>1345206.0</td>\n",
       "      <td>1326.0</td>\n",
       "      <td>461370</td>\n",
       "      <td>2623.183799</td>\n",
       "      <td>-883836.0</td>\n",
       "    </tr>\n",
       "    <tr>\n",
       "      <th>339661</th>\n",
       "      <td>356648.0</td>\n",
       "      <td>1053.0</td>\n",
       "      <td>461370</td>\n",
       "      <td>1774.447204</td>\n",
       "      <td>104722.0</td>\n",
       "    </tr>\n",
       "    <tr>\n",
       "      <th>1017133</th>\n",
       "      <td>175069.0</td>\n",
       "      <td>1256.0</td>\n",
       "      <td>461370</td>\n",
       "      <td>1618.550694</td>\n",
       "      <td>286301.0</td>\n",
       "    </tr>\n",
       "    <tr>\n",
       "      <th>40250</th>\n",
       "      <td>543000.0</td>\n",
       "      <td>1640.0</td>\n",
       "      <td>461370</td>\n",
       "      <td>1934.441622</td>\n",
       "      <td>-81630.0</td>\n",
       "    </tr>\n",
       "  </tbody>\n",
       "</table>\n",
       "</div>"
      ],
      "text/plain": [
       "         property_value  sqr_feet  baseline_pre         yhat  baseline_res\n",
       "1567873        191578.0    1248.0        461370  1632.724665      269792.0\n",
       "1218138       1345206.0    1326.0        461370  2623.183799     -883836.0\n",
       "339661         356648.0    1053.0        461370  1774.447204      104722.0\n",
       "1017133        175069.0    1256.0        461370  1618.550694      286301.0\n",
       "40250          543000.0    1640.0        461370  1934.441622      -81630.0"
      ]
     },
     "execution_count": 8,
     "metadata": {},
     "output_type": "execute_result"
    }
   ],
   "source": [
    "preds['baseline_res']= preds['baseline_pre'] - preds['property_value']\n",
    "preds.head()"
   ]
  },
  {
   "cell_type": "code",
   "execution_count": 9,
   "id": "e7558d7f",
   "metadata": {},
   "outputs": [
    {
     "data": {
      "image/png": "[encoded data removed]",
      "text/plain": [
       "<Figure size 640x480 with 1 Axes>"
      ]
     },
     "metadata": {},
     "output_type": "display_data"
    }
   ],
   "source": [
    "plt.scatter(preds.property_value, preds.baseline_res)\n",
    "plt.xlabel('sqr_feet')\n",
    "plt.ylabel('Baseline Residuals')\n",
    "plt.show()"
   ]
  },
  {
   "cell_type": "markdown",
   "id": "8d1a2453",
   "metadata": {},
   "source": [
    "4. Calculate the sum of squared errors, explained sum of squares, total sum of squares, mean squared error, and root mean squared error for your model."
   ]
  },
  {
   "cell_type": "markdown",
   "id": "42bb7e0a",
   "metadata": {},
   "source": [
    "- MSE"
   ]
  },
  {
   "cell_type": "code",
   "execution_count": 10,
   "id": "b9a106de",
   "metadata": {},
   "outputs": [
    {
     "data": {
      "text/plain": [
       "684940054528.7938"
      ]
     },
     "execution_count": 10,
     "metadata": {},
     "output_type": "execute_result"
    }
   ],
   "source": [
    "mse= mean_squared_error(preds.property_value, preds.yhat)\n",
    "mse"
   ]
  },
  {
   "cell_type": "markdown",
   "id": "6d290825",
   "metadata": {},
   "source": [
    "- SSE"
   ]
  },
  {
   "cell_type": "code",
   "execution_count": 11,
   "id": "b8d1c0cc",
   "metadata": {},
   "outputs": [
    {
     "data": {
      "text/plain": [
       "684938855997.7938"
      ]
     },
     "execution_count": 11,
     "metadata": {},
     "output_type": "execute_result"
    }
   ],
   "source": [
    "sse= mse - len(preds)\n",
    "sse"
   ]
  },
  {
   "cell_type": "markdown",
   "id": "09f9e6f7",
   "metadata": {},
   "source": [
    "- RMSE"
   ]
  },
  {
   "cell_type": "code",
   "execution_count": 12,
   "id": "f94b221f",
   "metadata": {},
   "outputs": [
    {
     "data": {
      "text/plain": [
       "827611.0526864621"
      ]
     },
     "execution_count": 12,
     "metadata": {},
     "output_type": "execute_result"
    }
   ],
   "source": [
    "rmse= mse ** .5\n",
    "rmse"
   ]
  },
  {
   "cell_type": "markdown",
   "id": "b9426182",
   "metadata": {},
   "source": [
    "- ESS"
   ]
  },
  {
   "cell_type": "code",
   "execution_count": 13,
   "id": "97c31e2e",
   "metadata": {},
   "outputs": [
    {
     "data": {
      "text/plain": [
       "2.530648513763643e+17"
      ]
     },
     "execution_count": 13,
     "metadata": {},
     "output_type": "execute_result"
    }
   ],
   "source": [
    "ess = ((preds.yhat - preds.property_value.mean())**2).sum()\n",
    "ess"
   ]
  },
  {
   "cell_type": "markdown",
   "id": "99856d6a",
   "metadata": {},
   "source": [
    "- TSS"
   ]
  },
  {
   "cell_type": "code",
   "execution_count": 14,
   "id": "00e752d8",
   "metadata": {},
   "outputs": [
    {
     "data": {
      "text/plain": [
       "2.530655363152203e+17"
      ]
     },
     "execution_count": 14,
     "metadata": {},
     "output_type": "execute_result"
    }
   ],
   "source": [
    "tss= ess + sse\n",
    "tss"
   ]
  },
  {
   "cell_type": "markdown",
   "id": "2be29766",
   "metadata": {},
   "source": [
    "5. Calculate the sum of squared errors, mean squared error, and root mean squared error for the baseline model (i.e. a model that always predicts the average taxvaluedollarcnt amount)."
   ]
  },
  {
   "cell_type": "code",
   "execution_count": 16,
   "id": "3bb479f7",
   "metadata": {},
   "outputs": [],
   "source": [
    "train['baseline'] = train.property_value.mean()"
   ]
  },
  {
   "cell_type": "code",
   "execution_count": 37,
   "id": "6d486778",
   "metadata": {},
   "outputs": [
    {
     "data": {
      "text/plain": [
       "474609161778.9538"
      ]
     },
     "execution_count": 37,
     "metadata": {},
     "output_type": "execute_result"
    }
   ],
   "source": [
    "mse_baseline = mean_squared_error(train.property_value, train.baseline)\n",
    "mse_baseline"
   ]
  },
  {
   "cell_type": "code",
   "execution_count": 38,
   "id": "bb9c7c87",
   "metadata": {},
   "outputs": [],
   "source": [
    "#create a column for SSE baseline column\n",
    "train['mse_baseline'] = mse_baseline"
   ]
  },
  {
   "cell_type": "code",
   "execution_count": 39,
   "id": "c69b7a79",
   "metadata": {},
   "outputs": [
    {
     "data": {
      "text/plain": [
       "5.6883379327609126e+17"
      ]
     },
     "execution_count": 39,
     "metadata": {},
     "output_type": "execute_result"
    }
   ],
   "source": [
    "sse_baseline = mse_baseline * len(train)\n",
    "sse_baseline"
   ]
  },
  {
   "cell_type": "code",
   "execution_count": 41,
   "id": "35f81858",
   "metadata": {},
   "outputs": [],
   "source": [
    "#create a column for SSE baseline column\n",
    "train['sse_baseline'] = sse_baseline"
   ]
  },
  {
   "cell_type": "code",
   "execution_count": 42,
   "id": "11d3ad43",
   "metadata": {},
   "outputs": [
    {
     "data": {
      "text/plain": [
       "688918.8354073024"
      ]
     },
     "execution_count": 42,
     "metadata": {},
     "output_type": "execute_result"
    }
   ],
   "source": [
    "rmse_baseline = mse_baseline**.5\n",
    "rmse_baseline"
   ]
  },
  {
   "cell_type": "code",
   "execution_count": 43,
   "id": "fffd3cf6",
   "metadata": {},
   "outputs": [
    {
     "data": {
      "text/html": [
       "<div>\n",
       "<style scoped>\n",
       "    .dataframe tbody tr th:only-of-type {\n",
       "        vertical-align: middle;\n",
       "    }\n",
       "\n",
       "    .dataframe tbody tr th {\n",
       "        vertical-align: top;\n",
       "    }\n",
       "\n",
       "    .dataframe thead th {\n",
       "        text-align: right;\n",
       "    }\n",
       "</style>\n",
       "<table border=\"1\" class=\"dataframe\">\n",
       "  <thead>\n",
       "    <tr style=\"text-align: right;\">\n",
       "      <th></th>\n",
       "      <th>year_built</th>\n",
       "      <th>property_value</th>\n",
       "      <th>tax_amount</th>\n",
       "      <th>bedrooms</th>\n",
       "      <th>bathrooms</th>\n",
       "      <th>sqr_feet</th>\n",
       "      <th>fips</th>\n",
       "      <th>baseline</th>\n",
       "      <th>MSE_baseline</th>\n",
       "      <th>SSE_baseline</th>\n",
       "      <th>mse_baseline</th>\n",
       "      <th>sse_baseline</th>\n",
       "    </tr>\n",
       "  </thead>\n",
       "  <tbody>\n",
       "    <tr>\n",
       "      <th>1567873</th>\n",
       "      <td>1950.0</td>\n",
       "      <td>191578.0</td>\n",
       "      <td>2712.21</td>\n",
       "      <td>3.0</td>\n",
       "      <td>1.0</td>\n",
       "      <td>1248.0</td>\n",
       "      <td>6037.0</td>\n",
       "      <td>461370.07448</td>\n",
       "      <td>4.746092e+11</td>\n",
       "      <td>5.688338e+17</td>\n",
       "      <td>4.746092e+11</td>\n",
       "      <td>5.688338e+17</td>\n",
       "    </tr>\n",
       "    <tr>\n",
       "      <th>1218138</th>\n",
       "      <td>1950.0</td>\n",
       "      <td>1345206.0</td>\n",
       "      <td>16539.04</td>\n",
       "      <td>2.0</td>\n",
       "      <td>2.0</td>\n",
       "      <td>1326.0</td>\n",
       "      <td>6037.0</td>\n",
       "      <td>461370.07448</td>\n",
       "      <td>4.746092e+11</td>\n",
       "      <td>5.688338e+17</td>\n",
       "      <td>4.746092e+11</td>\n",
       "      <td>5.688338e+17</td>\n",
       "    </tr>\n",
       "    <tr>\n",
       "      <th>339661</th>\n",
       "      <td>1953.0</td>\n",
       "      <td>356648.0</td>\n",
       "      <td>4575.16</td>\n",
       "      <td>2.0</td>\n",
       "      <td>1.0</td>\n",
       "      <td>1053.0</td>\n",
       "      <td>6037.0</td>\n",
       "      <td>461370.07448</td>\n",
       "      <td>4.746092e+11</td>\n",
       "      <td>5.688338e+17</td>\n",
       "      <td>4.746092e+11</td>\n",
       "      <td>5.688338e+17</td>\n",
       "    </tr>\n",
       "    <tr>\n",
       "      <th>1017133</th>\n",
       "      <td>1946.0</td>\n",
       "      <td>175069.0</td>\n",
       "      <td>2635.51</td>\n",
       "      <td>3.0</td>\n",
       "      <td>2.0</td>\n",
       "      <td>1256.0</td>\n",
       "      <td>6037.0</td>\n",
       "      <td>461370.07448</td>\n",
       "      <td>4.746092e+11</td>\n",
       "      <td>5.688338e+17</td>\n",
       "      <td>4.746092e+11</td>\n",
       "      <td>5.688338e+17</td>\n",
       "    </tr>\n",
       "    <tr>\n",
       "      <th>40250</th>\n",
       "      <td>1957.0</td>\n",
       "      <td>543000.0</td>\n",
       "      <td>6344.96</td>\n",
       "      <td>3.0</td>\n",
       "      <td>2.0</td>\n",
       "      <td>1640.0</td>\n",
       "      <td>6059.0</td>\n",
       "      <td>461370.07448</td>\n",
       "      <td>4.746092e+11</td>\n",
       "      <td>5.688338e+17</td>\n",
       "      <td>4.746092e+11</td>\n",
       "      <td>5.688338e+17</td>\n",
       "    </tr>\n",
       "  </tbody>\n",
       "</table>\n",
       "</div>"
      ],
      "text/plain": [
       "         year_built  property_value  tax_amount  bedrooms  bathrooms  \\\n",
       "1567873      1950.0        191578.0     2712.21       3.0        1.0   \n",
       "1218138      1950.0       1345206.0    16539.04       2.0        2.0   \n",
       "339661       1953.0        356648.0     4575.16       2.0        1.0   \n",
       "1017133      1946.0        175069.0     2635.51       3.0        2.0   \n",
       "40250        1957.0        543000.0     6344.96       3.0        2.0   \n",
       "\n",
       "         sqr_feet    fips      baseline  MSE_baseline  SSE_baseline  \\\n",
       "1567873    1248.0  6037.0  461370.07448  4.746092e+11  5.688338e+17   \n",
       "1218138    1326.0  6037.0  461370.07448  4.746092e+11  5.688338e+17   \n",
       "339661     1053.0  6037.0  461370.07448  4.746092e+11  5.688338e+17   \n",
       "1017133    1256.0  6037.0  461370.07448  4.746092e+11  5.688338e+17   \n",
       "40250      1640.0  6059.0  461370.07448  4.746092e+11  5.688338e+17   \n",
       "\n",
       "         mse_baseline  sse_baseline  \n",
       "1567873  4.746092e+11  5.688338e+17  \n",
       "1218138  4.746092e+11  5.688338e+17  \n",
       "339661   4.746092e+11  5.688338e+17  \n",
       "1017133  4.746092e+11  5.688338e+17  \n",
       "40250    4.746092e+11  5.688338e+17  "
      ]
     },
     "execution_count": 43,
     "metadata": {},
     "output_type": "execute_result"
    }
   ],
   "source": [
    "train.head()"
   ]
  },
  {
   "cell_type": "markdown",
   "id": "f327dce3",
   "metadata": {},
   "source": [
    "6. Write python code that compares the sum of squared errors for your model against the sum of squared errors for the baseline model and outputs whether or not your model performs better than the baseline model."
   ]
  },
  {
   "cell_type": "code",
   "execution_count": 24,
   "id": "c2f1e94e",
   "metadata": {},
   "outputs": [
    {
     "name": "stdout",
     "output_type": "stream",
     "text": [
      "My OSL model performs better than baseline\n"
     ]
    }
   ],
   "source": [
    "if sse < SSE_baseline:\n",
    "    print('My OSL model performs better than baseline')\n",
    "else:\n",
    "    print('My OSL model performs worse than baseline. :( )')"
   ]
  },
  {
   "cell_type": "markdown",
   "id": "670a58f7",
   "metadata": {},
   "source": [
    "7. What is the amount of variance explained in your model?"
   ]
  },
  {
   "cell_type": "code",
   "execution_count": 25,
   "id": "7937fb00",
   "metadata": {},
   "outputs": [
    {
     "data": {
      "text/plain": [
       "0.999997293432895"
      ]
     },
     "execution_count": 25,
     "metadata": {},
     "output_type": "execute_result"
    }
   ],
   "source": [
    "#First, let's perform this manually\n",
    "R2 = ess / tss\n",
    "R2"
   ]
  },
  {
   "cell_type": "code",
   "execution_count": 26,
   "id": "b62602f6",
   "metadata": {},
   "outputs": [
    {
     "name": "stdout",
     "output_type": "stream",
     "text": [
      "R-squared =  1.0\n",
      "Percent of variance =  100.0 %\n"
     ]
    }
   ],
   "source": [
    "#make it pretty\n",
    "print('R-squared = ',round(R2,3))\n",
    "print(\"Percent of variance = \", round(R2*100,1), \"%\")"
   ]
  },
  {
   "cell_type": "code",
   "execution_count": 34,
   "id": "bcbf1c22",
   "metadata": {},
   "outputs": [
    {
     "data": {
      "text/plain": [
       "-0.4431665245598446"
      ]
     },
     "execution_count": 34,
     "metadata": {},
     "output_type": "execute_result"
    }
   ],
   "source": [
    "#now, we can use sklearn function for R2 score\n",
    "r2_score(train.property_value, preds.yhat)"
   ]
  },
  {
   "cell_type": "code",
   "execution_count": 48,
   "id": "8da5cc30",
   "metadata": {},
   "outputs": [
    {
     "name": "stdout",
     "output_type": "stream",
     "text": [
      "Explained Variance =  0.002\n"
     ]
    }
   ],
   "source": [
    "#explained variance score- using import\n",
    "evs = explained_variance_score(train.property_value, preds.yhat)\n",
    "print('Explained Variance = ', round(evs,3))"
   ]
  },
  {
   "cell_type": "markdown",
   "id": "fe8a7830",
   "metadata": {},
   "source": [
    "8. Is your model better than the baseline model?"
   ]
  },
  {
   "cell_type": "code",
   "execution_count": 44,
   "id": "f40b2119",
   "metadata": {},
   "outputs": [
    {
     "data": {
      "text/plain": [
       "-138692.2172791597"
      ]
     },
     "execution_count": 44,
     "metadata": {},
     "output_type": "execute_result"
    }
   ],
   "source": [
    "rmse_baseline - rmse"
   ]
  },
  {
   "cell_type": "code",
   "execution_count": 46,
   "id": "070268a5",
   "metadata": {},
   "outputs": [
    {
     "name": "stdout",
     "output_type": "stream",
     "text": [
      "The model rmse performs worse than the rmse_baseline\n"
     ]
    }
   ],
   "source": [
    "if rmse < rmse_baseline:\n",
    "    print(f'The model rmse performs better the rmse_baseline')\n",
    "else:\n",
    "    print(f'The model rmse performs worse than the rmse_baseline')"
   ]
  },
  {
   "cell_type": "markdown",
   "id": "0c1b5687",
   "metadata": {},
   "source": [
    "9. Create a file named evaluate.py that contains the following functions."
   ]
  },
  {
   "cell_type": "code",
   "execution_count": null,
   "id": "0386dcde",
   "metadata": {},
   "outputs": [],
   "source": [
    "def plot_residuals(y, yhat):\n",
    "    '''\n",
    "    This function takes in actual value and predicted value \n",
    "    then creates a scatter plot of those values\n",
    "    '''\n",
    "    residuals = y - yhat\n",
    "    \n",
    "    plt.scatter(x=y, y=residuals)\n",
    "    plt.xlabel('Home Value')\n",
    "    plt.ylabel('Residuals')\n",
    "    plt.title('Residual vs Home Value Plot')\n",
    "    plt.show()"
   ]
  },
  {
   "cell_type": "code",
   "execution_count": null,
   "id": "406d383e",
   "metadata": {},
   "outputs": [],
   "source": [
    "plot_residuals(train.home_value, train.yhat)"
   ]
  },
  {
   "cell_type": "code",
   "execution_count": 56,
   "id": "bc57aa2d",
   "metadata": {},
   "outputs": [],
   "source": [
    "def regression_errors(y, yhat):\n",
    "    '''\n",
    "    This function takes in actual value and predicted value \n",
    "    then outputs: the sse, ess, tss, mse, and rmse\n",
    "    '''\n",
    "    mse= mean_squared_error(y, yhat)\n",
    "    ssse= mse * len(y)\n",
    "    rmse= math.sqrt(mse)\n",
    "    ess= ((yhat - y.mean())**2).sum()\n",
    "    tss= ess + sse\n",
    "           \n",
    "    print(f'SSE: {sse: .4f}')\n",
    "    print(f'ESS: {ess: .4f}')\n",
    "    print(f'TSS: {tss: .4f}')\n",
    "    print(f'MSE: {mse: .4f}')\n",
    "    print(f'RMSE: {rmse: .4f}')\n",
    "\n",
    "    return mse, sse, rmse, ess, tss"
   ]
  },
  {
   "cell_type": "code",
   "execution_count": 57,
   "id": "cde0c67b",
   "metadata": {},
   "outputs": [
    {
     "name": "stdout",
     "output_type": "stream",
     "text": [
      "SSE:  684938855997.7938\n",
      "ESS:  253064851376364288.0000\n",
      "TSS:  253065536315220288.0000\n",
      "MSE:  684940054528.7938\n",
      "RMSE:  827611.0527\n"
     ]
    },
    {
     "data": {
      "text/plain": [
       "(684940054528.7938,\n",
       " 684938855997.7938,\n",
       " 827611.0526864621,\n",
       " 2.530648513763643e+17,\n",
       " 2.530655363152203e+17)"
      ]
     },
     "execution_count": 57,
     "metadata": {},
     "output_type": "execute_result"
    }
   ],
   "source": [
    "regression_errors(train.property_value, preds.yhat)"
   ]
  },
  {
   "cell_type": "code",
   "execution_count": 58,
   "id": "6670743c",
   "metadata": {},
   "outputs": [],
   "source": [
    "def baseline_mean_errors(y):\n",
    "    baseline = np.repeat(y.mean(), len(y))\n",
    "    \n",
    "    mse= mean_squared_error(y, baseline)\n",
    "    sse= mse * len(y)\n",
    "    rmse= mse **.5\n",
    "    \n",
    "    print(f'sse_baseline: {sse: .4f}')\n",
    "    print(f'mse_baseline: {mse: .4f}')\n",
    "    print(f'rmse_baseline: {rmse: .4f}')\n",
    "    \n",
    "    return mse, sse, rmse"
   ]
  },
  {
   "cell_type": "code",
   "execution_count": 59,
   "id": "619cc30f",
   "metadata": {},
   "outputs": [
    {
     "name": "stdout",
     "output_type": "stream",
     "text": [
      "sse_baseline:  568833793276091264.0000\n",
      "mse_baseline:  474609161778.9538\n",
      "rmse_baseline:  688918.8354\n"
     ]
    },
    {
     "data": {
      "text/plain": [
       "(474609161778.9538, 5.6883379327609126e+17, 688918.8354073024)"
      ]
     },
     "execution_count": 59,
     "metadata": {},
     "output_type": "execute_result"
    }
   ],
   "source": [
    "baseline_mean_errors(train.property_value)"
   ]
  },
  {
   "cell_type": "code",
   "execution_count": null,
   "id": "8dfb8722",
   "metadata": {},
   "outputs": [],
   "source": [
    "def better_than_baseline(y, yhat):\n",
    "   \n",
    "    sse, , TSS, MSE, RMSE = regression_errors(y, yhat)\n",
    "    \n",
    "    SSE_baseline, MSE_baseline, RMSE_baseline = baseline_mean_errors(y)\n",
    "    \n",
    "    if SSE < SSE_baseline:\n",
    "        print('My OSL model performs better than baseline')\n",
    "    else:\n",
    "        print('My OSL model performs worse than baseline. :( )')\n",
    "better_than_baseline(train.home_value, train.yhat)"
   ]
  }
 ],
 "metadata": {
  "kernelspec": {
   "display_name": "Python 3 (ipykernel)",
   "language": "python",
   "name": "python3"
  },
  "language_info": {
   "codemirror_mode": {
    "name": "ipython",
    "version": 3
   },
   "file_extension": ".py",
   "mimetype": "text/x-python",
   "name": "python",
   "nbconvert_exporter": "python",
   "pygments_lexer": "ipython3",
   "version": "3.9.13"
  }
 },
 "nbformat": 4,
 "nbformat_minor": 5
}
