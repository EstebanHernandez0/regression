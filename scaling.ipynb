{
 "cells": [
  {
   "cell_type": "code",
   "execution_count": 14,
   "id": "3c5f2343",
   "metadata": {},
   "outputs": [],
   "source": [
    "from env import get_connection\n",
    "import pandas as pd\n",
    "import numpy as np\n",
    "import matplotlib.pyplot as plt\n",
    "import wrangle as w\n",
    "\n",
    "import seaborn as sns\n",
    "from math import sqrt\n",
    "from scipy import stats\n",
    "\n",
    "# ignore warnings\n",
    "import warnings\n",
    "warnings.filterwarnings(\"ignore\")\n",
    "from sklearn.model_selection import train_test_split\n",
    "from sklearn.preprocessing import MinMaxScaler \n",
    "from sklearn.preprocessing import StandardScaler\n",
    "from sklearn.preprocessing import RobustScaler\n",
    "from sklearn.preprocessing import QuantileTransformer as qt"
   ]
  },
  {
   "cell_type": "markdown",
   "id": "6bec1432",
   "metadata": {},
   "source": [
    "# Exercises Plan of Action:\n",
    "   - Acquire \n",
    "   - Prepare\n",
    "   - Answer the exercises questions"
   ]
  },
  {
   "cell_type": "markdown",
   "id": "59b41595",
   "metadata": {},
   "source": [
    "## Acquire the data that we will be using to answer the following questions "
   ]
  },
  {
   "cell_type": "code",
   "execution_count": 7,
   "id": "39779c7d",
   "metadata": {},
   "outputs": [],
   "source": [
    "train, val, test= w.wrangle_zillow()"
   ]
  },
  {
   "cell_type": "code",
   "execution_count": 8,
   "id": "86802577",
   "metadata": {},
   "outputs": [
    {
     "data": {
      "text/html": [
       "<div>\n",
       "<style scoped>\n",
       "    .dataframe tbody tr th:only-of-type {\n",
       "        vertical-align: middle;\n",
       "    }\n",
       "\n",
       "    .dataframe tbody tr th {\n",
       "        vertical-align: top;\n",
       "    }\n",
       "\n",
       "    .dataframe thead th {\n",
       "        text-align: right;\n",
       "    }\n",
       "</style>\n",
       "<table border=\"1\" class=\"dataframe\">\n",
       "  <thead>\n",
       "    <tr style=\"text-align: right;\">\n",
       "      <th></th>\n",
       "      <th>Unnamed: 0</th>\n",
       "      <th>year_built</th>\n",
       "      <th>tax_value</th>\n",
       "      <th>taxamount</th>\n",
       "      <th>bedrooms</th>\n",
       "      <th>bathrooms</th>\n",
       "      <th>area</th>\n",
       "      <th>fips</th>\n",
       "    </tr>\n",
       "  </thead>\n",
       "  <tbody>\n",
       "    <tr>\n",
       "      <th>1567873</th>\n",
       "      <td>1567873</td>\n",
       "      <td>1950.0</td>\n",
       "      <td>191578.0</td>\n",
       "      <td>2712.21</td>\n",
       "      <td>3.0</td>\n",
       "      <td>1.0</td>\n",
       "      <td>1248.0</td>\n",
       "      <td>6037.0</td>\n",
       "    </tr>\n",
       "    <tr>\n",
       "      <th>1218138</th>\n",
       "      <td>1218138</td>\n",
       "      <td>1950.0</td>\n",
       "      <td>1345206.0</td>\n",
       "      <td>16539.04</td>\n",
       "      <td>2.0</td>\n",
       "      <td>2.0</td>\n",
       "      <td>1326.0</td>\n",
       "      <td>6037.0</td>\n",
       "    </tr>\n",
       "    <tr>\n",
       "      <th>339661</th>\n",
       "      <td>339661</td>\n",
       "      <td>1953.0</td>\n",
       "      <td>356648.0</td>\n",
       "      <td>4575.16</td>\n",
       "      <td>2.0</td>\n",
       "      <td>1.0</td>\n",
       "      <td>1053.0</td>\n",
       "      <td>6037.0</td>\n",
       "    </tr>\n",
       "    <tr>\n",
       "      <th>1017133</th>\n",
       "      <td>1017133</td>\n",
       "      <td>1946.0</td>\n",
       "      <td>175069.0</td>\n",
       "      <td>2635.51</td>\n",
       "      <td>3.0</td>\n",
       "      <td>2.0</td>\n",
       "      <td>1256.0</td>\n",
       "      <td>6037.0</td>\n",
       "    </tr>\n",
       "    <tr>\n",
       "      <th>40250</th>\n",
       "      <td>40250</td>\n",
       "      <td>1957.0</td>\n",
       "      <td>543000.0</td>\n",
       "      <td>6344.96</td>\n",
       "      <td>3.0</td>\n",
       "      <td>2.0</td>\n",
       "      <td>1640.0</td>\n",
       "      <td>6059.0</td>\n",
       "    </tr>\n",
       "  </tbody>\n",
       "</table>\n",
       "</div>"
      ],
      "text/plain": [
       "         Unnamed: 0  year_built  tax_value  taxamount  bedrooms  bathrooms  \\\n",
       "1567873     1567873      1950.0   191578.0    2712.21       3.0        1.0   \n",
       "1218138     1218138      1950.0  1345206.0   16539.04       2.0        2.0   \n",
       "339661       339661      1953.0   356648.0    4575.16       2.0        1.0   \n",
       "1017133     1017133      1946.0   175069.0    2635.51       3.0        2.0   \n",
       "40250         40250      1957.0   543000.0    6344.96       3.0        2.0   \n",
       "\n",
       "           area    fips  \n",
       "1567873  1248.0  6037.0  \n",
       "1218138  1326.0  6037.0  \n",
       "339661   1053.0  6037.0  \n",
       "1017133  1256.0  6037.0  \n",
       "40250    1640.0  6059.0  "
      ]
     },
     "execution_count": 8,
     "metadata": {},
     "output_type": "execute_result"
    }
   ],
   "source": [
    "train.head()"
   ]
  },
  {
   "cell_type": "code",
   "execution_count": 9,
   "id": "e220ffdd",
   "metadata": {},
   "outputs": [],
   "source": [
    "train.drop(columns= ['Unnamed: 0'], inplace= True)\n",
    "val.drop(columns= ['Unnamed: 0'], inplace= True)\n",
    "test.drop(columns= ['Unnamed: 0'], inplace= True)"
   ]
  },
  {
   "cell_type": "code",
   "execution_count": null,
   "id": "5dcedc82",
   "metadata": {},
   "outputs": [],
   "source": []
  },
  {
   "cell_type": "code",
   "execution_count": null,
   "id": "79faa5c3",
   "metadata": {},
   "outputs": [],
   "source": []
  }
 ],
 "metadata": {
  "kernelspec": {
   "display_name": "Python 3 (ipykernel)",
   "language": "python",
   "name": "python3"
  },
  "language_info": {
   "codemirror_mode": {
    "name": "ipython",
    "version": 3
   },
   "file_extension": ".py",
   "mimetype": "text/x-python",
   "name": "python",
   "nbconvert_exporter": "python",
   "pygments_lexer": "ipython3",
   "version": "3.9.13"
  }
 },
 "nbformat": 4,
 "nbformat_minor": 5
}
